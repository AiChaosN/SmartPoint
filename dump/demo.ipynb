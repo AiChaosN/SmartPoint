{
 "cells": [
  {
   "cell_type": "code",
   "execution_count": null,
   "id": "99d3791c",
   "metadata": {},
   "outputs": [
    {
     "name": "stdout",
     "output_type": "stream",
     "text": [
      "plan_to_json success\n",
      "[{'tittle': '起床', 'time': '08:00:00', 'discripe': '今天我打算早上8点钟起床', 'finish': False}, {'tittle': '吃早餐', 'time': '08:30:00', 'discripe': '8点半吃好早餐并把早晨的药服下', 'finish': False}, {'tittle': '散步', 'time': '09:00:00', 'discripe': '在9点左右去小区里散步，顺便和邻居打个招呼', 'finish': False}, {'tittle': '吃午饭', 'time': '12:30:00', 'discripe': '中午12点半吃午饭', 'finish': False}, {'tittle': '吃降压药', 'time': '14:00:00', 'discripe': '饭后2点再吃一次降压药', 'finish': False}, {'tittle': '打电话', 'time': '16:00:00', 'discripe': '下午我准备4点打电话和老朋友聊一会儿', 'finish': False}, {'tittle': '吃晚饭', 'time': '18:30:00', 'discripe': '晚上则在6点半吃完晚饭', 'finish': False}, {'tittle': '洗澡', 'time': '19:00:00', 'discripe': '7点洗个澡后去隔壁家串门', 'finish': False}]\n"
     ]
    }
   ],
   "source": [
    "from openai import OpenAI\n",
    "import json\n",
    "import inspect\n",
    "\n",
    "# 初始化客户端\n",
    "client = OpenAI(api_key=\"\")\n",
    "\n",
    "\n",
    "def process_json(raw):\n",
    "    start = raw.find(\"[\")\n",
    "    end = raw.rfind(\"]\") + 1\n",
    "    clean_json = raw[start:end]\n",
    "    data = json.loads(clean_json)\n",
    "    return data\n",
    "\n",
    "def plan_to_json(plan_text: str):\n",
    "    prompt = f\"\"\"\n",
    "你是一个日程解析助手。请把下面的一段话拆分成多个 JSON 对象，\n",
    "每个对象的 key 固定为 [tittle, time(hh:mm:ss), discripe(string), finish(bool=false)]。\n",
    "时间统一为 hh:mm:ss 格式，finish 永远为 false。\n",
    "只返回 JSON 数组，不要多余文字。\n",
    "\n",
    "输入内容：\n",
    "{plan_text}\n",
    "\"\"\"\n",
    "\n",
    "    response = client.chat.completions.create(\n",
    "        model=\"gpt-4o-mini\",   # 可以换成 gpt-4o 或 gpt-5\n",
    "        messages=[{\"role\": \"user\", \"content\": prompt}],\n",
    "        temperature=0\n",
    "    )\n",
    "    try:\n",
    "        data = process_json(response.choices[0].message.content)\n",
    "        print(inspect.currentframe().f_code.co_name, \"success\")\n",
    "        return data\n",
    "    except:\n",
    "        print(inspect.currentframe().f_code.co_name, \"error\")\n",
    "        return -1\n",
    "\n",
    "if __name__ == \"__main__\":\n",
    "    text = \"今天我打算早上8点钟起床，8点半吃好早餐并把早晨的药服下，然后在9点左右去小区里散步，顺便和邻居打个招呼，中午12点半吃午饭，饭后2点再吃一次降压药，下午我准备4点打电话和老朋友聊一会儿，晚上则在6点半吃完晚饭，7点洗个澡后去隔壁家串门，一天就这样有条不紊。\"\n",
    "    result = plan_to_json(text)\n",
    "    if result == -1:\n",
    "        result = plan_to_json(text)\n",
    "    \n",
    "    print(result)"
   ]
  }
 ],
 "metadata": {
  "kernelspec": {
   "display_name": "ai",
   "language": "python",
   "name": "python3"
  },
  "language_info": {
   "codemirror_mode": {
    "name": "ipython",
    "version": 3
   },
   "file_extension": ".py",
   "mimetype": "text/x-python",
   "name": "python",
   "nbconvert_exporter": "python",
   "pygments_lexer": "ipython3",
   "version": "3.10.18"
  }
 },
 "nbformat": 4,
 "nbformat_minor": 5
}
